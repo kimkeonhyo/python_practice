{
 "cells": [
  {
   "cell_type": "code",
   "execution_count": 129,
   "id": "2ef4f08f-e16c-4122-9c8d-0141174f24e8",
   "metadata": {},
   "outputs": [
    {
     "name": "stdin",
     "output_type": "stream",
     "text": [
      " hello\n"
     ]
    },
    {
     "name": "stdout",
     "output_type": "stream",
     "text": [
      "HELLO, HELLO, HELLO, HELLO, HELLO\n"
     ]
    }
   ],
   "source": [
    "N = input()\n",
    "i=0\n",
    "results=[]\n",
    "\n",
    "## 입력받은 문자열을 대문자로 변환하여 N번 results list에 추가한다. \n",
    "while i < len(N):\n",
    "    results.append(N.upper())\n",
    "    i+=1\n",
    "    \n",
    "## list의 내용을 ,(comma)를 기준으로 합쳐준다.\n",
    "results = ', '.join(results)\n",
    "print(results)"
   ]
  },
  {
   "cell_type": "code",
   "execution_count": 134,
   "id": "03890a49-b874-41a2-97f9-3272f1290dec",
   "metadata": {},
   "outputs": [
    {
     "name": "stdin",
     "output_type": "stream",
     "text": [
      " 4\n"
     ]
    },
    {
     "name": "stdout",
     "output_type": "stream",
     "text": [
      "1 1\n",
      "2 8\n",
      "3 27\n",
      "4 64\n"
     ]
    }
   ],
   "source": [
    "N = int(input())\n",
    "for i in range(1,N+1):\n",
    "    print(i, i**3)\n",
    "    ## 현재 계산할 정수와 3제곱 한 결과를 출력한다."
   ]
  },
  {
   "cell_type": "code",
   "execution_count": 146,
   "id": "20a9632b-e6a2-4f36-9d26-fc42d4f3f94f",
   "metadata": {},
   "outputs": [
    {
     "name": "stdin",
     "output_type": "stream",
     "text": [
      " hello\n",
      " world\n",
      " \n"
     ]
    },
    {
     "name": "stdout",
     "output_type": "stream",
     "text": [
      "helloworld\n"
     ]
    }
   ],
   "source": [
    "i=0\n",
    "results = []\n",
    "## i가 1보다 작을 떄로 설정하고 i 계속해서 0이기 때문에 break 선언 시 까지 무한루프로 실행한다.\n",
    "while i < 1:\n",
    "    string = input()\n",
    "    ## string을 입력받고 입력이 있을 경우 리스트에 추가\n",
    "    if string:\n",
    "        results.append(string)\n",
    "    ## string이 빈 값일 경우 리스트의 내용을 공백없이 합춰 출력한다.\n",
    "    else:\n",
    "        results = ''.join(results)\n",
    "        print(results)\n",
    "        break"
   ]
  },
  {
   "cell_type": "code",
   "execution_count": 153,
   "id": "bc112731-eb24-440d-9f75-64f305f99e49",
   "metadata": {},
   "outputs": [
    {
     "name": "stdin",
     "output_type": "stream",
     "text": [
      " 72 18\n",
      " 24 49 38 91 38 32\n"
     ]
    },
    {
     "name": "stdout",
     "output_type": "stream",
     "text": [
      "Humidity OK\n",
      "Humidity OK\n",
      "Humidity OK\n",
      "Warning!\n"
     ]
    }
   ],
   "source": [
    "limit = list(map(int, input().split()))\n",
    "humidity = list(map(int, input().split()))\n",
    "## i가 humidity 리스트의 값을 받아서 반복 동작한다.\n",
    "for i in humidity:\n",
    "     ## 습도가 최소, 최대 허용 습도 사이 값일 때 \"Humidity OK\"를 출력\n",
    "    if min(limit)<= i <=max(limit):\n",
    "        print(\"Humidity OK\")\n",
    "    ## 습도 측정이 끝내는 값 '-999'가 입력되면 동작을 멈춘다.\n",
    "    elif i == -999:\n",
    "        break\n",
    "    ## 습도가 허용 범위를 벗어났을 때 'Warning'을 출력하고 습도 측정이 중단된다.\n",
    "    else :\n",
    "        print(\"Warning!\")\n",
    "        break\n",
    "        "
   ]
  },
  {
   "cell_type": "code",
   "execution_count": 1,
   "id": "c3aeadf0-dbd5-41da-8ea9-9a3af4d550b6",
   "metadata": {},
   "outputs": [],
   "source": [
    "doubler = lambda x: 2*3"
   ]
  },
  {
   "cell_type": "code",
   "execution_count": 3,
   "id": "ae40b8e2-1857-46c6-927e-f681f3bec72d",
   "metadata": {},
   "outputs": [
    {
     "data": {
      "text/plain": [
       "6"
      ]
     },
     "execution_count": 3,
     "metadata": {},
     "output_type": "execute_result"
    }
   ],
   "source": [
    "doubler(5)"
   ]
  },
  {
   "cell_type": "code",
   "execution_count": 8,
   "id": "a5644f93-7688-46c4-9112-b05ee04769d9",
   "metadata": {},
   "outputs": [
    {
     "name": "stdin",
     "output_type": "stream",
     "text": [
      " 3 4 5\n"
     ]
    },
    {
     "name": "stdout",
     "output_type": "stream",
     "text": [
      "6\n",
      "12\n",
      "25\n"
     ]
    }
   ],
   "source": [
    "x, y, z = map(int,input().split())\n",
    "doubler = lambda x: print(x*2)\n",
    "tripler = lambda x: print(x*3)\n",
    "\n",
    "square = lambda x: print(x**2)\n",
    "\n",
    "doubler(x)\n",
    "tripler(y)\n",
    "square(z)"
   ]
  },
  {
   "cell_type": "code",
   "execution_count": 15,
   "id": "c32dcaf0-458d-4ea5-8994-c464313424f0",
   "metadata": {},
   "outputs": [
    {
     "name": "stdout",
     "output_type": "stream",
     "text": [
      "['1입니다', '2입니다', '3입니다', '4입니다', '5입니다']\n"
     ]
    }
   ],
   "source": [
    "target = [1, 2, 3, 4, 5]\n",
    "results = map(lambda x: str(x)+\"입니다\", target)\n",
    "print(list(results))"
   ]
  },
  {
   "cell_type": "code",
   "execution_count": 20,
   "id": "083da8d3-0dec-4416-9b30-cceffc873f59",
   "metadata": {},
   "outputs": [
    {
     "name": "stdout",
     "output_type": "stream",
     "text": [
      "['1', '-4', '9', '-16', '25']\n"
     ]
    }
   ],
   "source": [
    "target = [1, -2, 3, -4, 5]\n",
    "results = map(lambda x: str(x**2*-1) if x<0 else str(x**2), target)\n",
    "print(list(results))"
   ]
  },
  {
   "cell_type": "code",
   "execution_count": 30,
   "id": "2fb9f32d-f1d3-4b6a-b662-e24dfe34d8de",
   "metadata": {},
   "outputs": [
    {
     "name": "stdin",
     "output_type": "stream",
     "text": [
      " 120\n",
      " 70\n"
     ]
    },
    {
     "name": "stdout",
     "output_type": "stream",
     "text": [
      "과속입니다.\n"
     ]
    }
   ],
   "source": [
    "speed = int(input())\n",
    "limit = int(input())\n",
    "alarm = lambda x,y: print(\"정상속도입니다. 안전운행 하세요\") if speed<=limit else print(\"과속입니다.\")\n",
    "alarm(speed,limit)"
   ]
  },
  {
   "cell_type": "code",
   "execution_count": 41,
   "id": "9da52fe2-8962-458d-a605-08ed8c3dfe70",
   "metadata": {},
   "outputs": [
    {
     "name": "stdin",
     "output_type": "stream",
     "text": [
      " 3.5\n"
     ]
    },
    {
     "name": "stdout",
     "output_type": "stream",
     "text": [
      "버스타세요\n",
      "수고하셨습니다\n"
     ]
    }
   ],
   "source": [
    "Distance = float(input())\n",
    "if Distance <= 3:\n",
    "    print(\"걸어가세요\")\n",
    "elif Distance <= 10:\n",
    "    print(\"버스타세요\")\n",
    "else:\n",
    "    print(\"택시타세요\")\n",
    "print(\"수고하셨습니다\")"
   ]
  },
  {
   "cell_type": "code",
   "execution_count": 57,
   "id": "8174d608-9d62-4b41-b64a-5e16727ca9c9",
   "metadata": {},
   "outputs": [
    {
     "name": "stdout",
     "output_type": "stream",
     "text": [
      "[['삼성전자', '삼성생명', '삼성화재'], ['LG전자', 'LG화학'], ['SKT', 'SK바이오사이언스'], ['셀트리온', '종근당']]\n",
      "['셀트리온', '종근당']\n",
      "[['삼성전자', '삼성생명', '삼성화재'], ['LG전자', 'LG화학'], ['SKT', 'SK바이오사이언스']]\n"
     ]
    }
   ],
   "source": [
    "lists = [['삼성전자', '삼성생명', '삼성화재'],\n",
    "         ['LG전자', 'LG화학'],\n",
    "         ['SKT', 'SK바이오사이언스'],\n",
    "         ['셀트리온']]\n",
    "\n",
    "lists[-1].append(\"종근당\")  # 마지막 항목에 추가\n",
    "##print(lists)\n",
    "\n",
    "print(lists[-1])  # 마지막행 출력\n",
    "\n",
    "# 마지막 요소 제거\n",
    "lists.pop()  # 마지막 요소 제거\n",
    "\n",
    "# 결과 출력\n",
    "print(lists)  # 변경된 리스트 출력\n"
   ]
  },
  {
   "cell_type": "code",
   "execution_count": null,
   "id": "efb2c67b-3f97-4ae3-9019-c5dd80268b05",
   "metadata": {},
   "outputs": [],
   "source": []
  }
 ],
 "metadata": {
  "kernelspec": {
   "display_name": "Python 3 (ipykernel)",
   "language": "python",
   "name": "python3"
  },
  "language_info": {
   "codemirror_mode": {
    "name": "ipython",
    "version": 3
   },
   "file_extension": ".py",
   "mimetype": "text/x-python",
   "name": "python",
   "nbconvert_exporter": "python",
   "pygments_lexer": "ipython3",
   "version": "3.11.10"
  }
 },
 "nbformat": 4,
 "nbformat_minor": 5
}
