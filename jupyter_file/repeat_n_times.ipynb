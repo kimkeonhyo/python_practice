{
 "cells": [
  {
   "cell_type": "code",
   "execution_count": 158,
   "id": "5f2f411e-f24a-4f70-bcbf-279f90b2799d",
   "metadata": {},
   "outputs": [
    {
     "name": "stdin",
     "output_type": "stream",
     "text": [
      " hello 3\n"
     ]
    },
    {
     "name": "stdout",
     "output_type": "stream",
     "text": [
      "hellohellohello\n"
     ]
    }
   ],
   "source": [
    "def repeat_n_times(x, n):\n",
    "    return print(x*n)\n",
    "\n",
    "\n",
    "if __name__ == \"__main__\":\n",
    "    x, n = input().split()\n",
    "    n = int(n)\n",
    "    if x.isdigit():\n",
    "        x=int(x)\n",
    "    repeat_n_times(x,n)"
   ]
  },
  {
   "cell_type": "code",
   "execution_count": null,
   "id": "d9a69681-397a-45fe-99ac-f30392acd6bc",
   "metadata": {},
   "outputs": [],
   "source": []
  }
 ],
 "metadata": {
  "kernelspec": {
   "display_name": "Python 3 (ipykernel)",
   "language": "python",
   "name": "python3"
  },
  "language_info": {
   "codemirror_mode": {
    "name": "ipython",
    "version": 3
   },
   "file_extension": ".py",
   "mimetype": "text/x-python",
   "name": "python",
   "nbconvert_exporter": "python",
   "pygments_lexer": "ipython3",
   "version": "3.11.10"
  }
 },
 "nbformat": 4,
 "nbformat_minor": 5
}
