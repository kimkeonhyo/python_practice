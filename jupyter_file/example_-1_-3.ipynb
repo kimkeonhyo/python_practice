{
 "cells": [
  {
   "cell_type": "code",
   "execution_count": 1,
   "id": "dd38a2b6-e72c-4a48-aa49-9786cdf05713",
   "metadata": {},
   "outputs": [
    {
     "name": "stdout",
     "output_type": "stream",
     "text": [
      "['1', '-4', '9', '-16', '25']\n"
     ]
    }
   ],
   "source": [
    "target = [1, -2, 3, -4, 5]\n",
    "results = map(lambda x: str(x**2*-1) if x<0 else str(x**2), target)\n",
    "print(list(results))"
   ]
  },
  {
   "cell_type": "code",
   "execution_count": 10,
   "id": "44f3a926-69f1-473b-8255-d22ec609ed45",
   "metadata": {},
   "outputs": [
    {
     "name": "stdout",
     "output_type": "stream",
     "text": [
      "{2, 4, 7, 11, 13, 14, 15, 16, 20, 22, 23, 28, 32, 33, 35, 36, 37, 40, 45, 46, 47, 48, 50, 58, 60, 61, 62, 63, 65, 67, 69, 70, 72, 74, 76, 77, 79, 80, 82, 83, 85, 86, 87, 88, 89, 92, 93, 94, 97, 99}\n",
      "[2, 4, 7, 11, 13, 14, 15, 16, 20, 22, 23, 28, 32, 33, 35, 36, 37, 40, 45, 46, 47, 48, 50, 58, 60, 61, 62, 63, 65, 67, 69, 70, 72, 74, 76, 77, 79, 80, 82, 83, 85, 86, 87, 88, 89, 92, 93, 94, 97, 99]\n"
     ]
    }
   ],
   "source": [
    "import random\n",
    "\n",
    "numlist = range(1,101)\n",
    "s = random.sample(numlist, 50)\n",
    "##print(s)\n",
    "print(set(s))\n",
    "s.sort()\n",
    "print(s)\n"
   ]
  },
  {
   "cell_type": "code",
   "execution_count": 33,
   "id": "d0e7c3c4-062c-4c7e-9882-0d51a2d28aec",
   "metadata": {},
   "outputs": [
    {
     "name": "stdout",
     "output_type": "stream",
     "text": [
      "\n",
      "Text files in current and subdirectories:\n",
      "goodbye.txt\n",
      "hello.txt\n",
      "\n",
      "csv files in current and subdirectories:\n",
      "hmm.csv\n",
      "['good bye guys\\nsee you next\\n', 'hello guys\\nwelcom to my world\\n', '']\n"
     ]
    }
   ],
   "source": [
    "import glob\n",
    "\n",
    "def write_to_file(output_file, *args, **kwargs):\n",
    "    # 헤더 처리\n",
    "    headers = list(args)\n",
    "    \n",
    "    #시작헤더, 끝문장 가져오기\n",
    "    start_header = kwargs.get('start_header', None)\n",
    "    end_footer = kwargs.get('end_footer',None)\n",
    "    #파일 쓰기\n",
    "    with open(output_file,\"w\") as file:\n",
    "        #시작헤더 추가\n",
    "        if start_header:\n",
    "            file.write(start_header + '\\n')\n",
    "        \n",
    "        #헤더 추가\n",
    "        for header in headers:\n",
    "            file.write(header + '\\n')\n",
    "        #끝문장 추가\n",
    "        if end_footer:\n",
    "            file.write(end_footer + '\\n')\n",
    "\n",
    "read_text = []\n",
    "text_files_recursive = glob.glob(\"**/*.txt\", recursive=True)\n",
    "\n",
    "print(\"\\nText files in current and subdirectories:\")\n",
    "for file in text_files_recursive:\n",
    "    print(file)\n",
    "    \n",
    "    with open(file,\"r\") as file:\n",
    "        content = file. read()\n",
    "        read_text.append(content+\"\\n\")\n",
    "\n",
    "\n",
    "csv_files_recursive = glob.glob(\"**/*.csv\", recursive=True)\n",
    "\n",
    "print(\"\\ncsv files in current and subdirectories:\")\n",
    "for file in csv_files_recursive:\n",
    "    print(file)\n",
    "    with open(file,\"r\") as file:\n",
    "        content = file. read()\n",
    "        read_text.append(content)\n",
    "\n",
    "\n",
    "\n",
    "#함수 호출 output_file에 내용작성\n",
    "output_file = \"output_file\"\n",
    "write_to_file(output_file,start_header=read_text[1],end_footer=read_text[0])\n",
    "\n",
    "\n",
    "\n",
    "        \n",
    "print(read_text)\n",
    "\n",
    "#with open(\"output_file\",\"w\") as file:\n",
    " #   for i in read_text:\n",
    "  #      file.write(i)\n",
    "\n",
    "\n",
    "#with open(\"hello.txt\",\"r\") as file:\n",
    " #   content = file. read()\n",
    "  #  print(\"\\n\",content)"
   ]
  },
  {
   "cell_type": "code",
   "execution_count": null,
   "id": "873f60f8-5aff-46c5-a034-2bbbec0e00ce",
   "metadata": {},
   "outputs": [],
   "source": []
  }
 ],
 "metadata": {
  "kernelspec": {
   "display_name": "Python 3 (ipykernel)",
   "language": "python",
   "name": "python3"
  },
  "language_info": {
   "codemirror_mode": {
    "name": "ipython",
    "version": 3
   },
   "file_extension": ".py",
   "mimetype": "text/x-python",
   "name": "python",
   "nbconvert_exporter": "python",
   "pygments_lexer": "ipython3",
   "version": "3.11.10"
  }
 },
 "nbformat": 4,
 "nbformat_minor": 5
}
