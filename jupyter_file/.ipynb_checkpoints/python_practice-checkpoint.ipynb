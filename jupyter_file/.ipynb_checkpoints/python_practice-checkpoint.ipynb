{
 "cells": [
  {
   "cell_type": "code",
   "execution_count": 4,
   "id": "92ce57b1-92fd-4ff0-afd0-2517340e5adc",
   "metadata": {},
   "outputs": [],
   "source": [
    "_list = []\n",
    "for i in range(11):\n",
    "    #print(i)\n",
    "    _list.append(i)"
   ]
  },
  {
   "cell_type": "code",
   "execution_count": 5,
   "id": "14db5c97-602c-42a5-a622-156a2041750c",
   "metadata": {},
   "outputs": [
    {
     "data": {
      "text/plain": [
       "[0, 1, 2, 3, 4, 5, 6, 7, 8, 9, 10]"
      ]
     },
     "execution_count": 5,
     "metadata": {},
     "output_type": "execute_result"
    }
   ],
   "source": [
    "_list"
   ]
  },
  {
   "cell_type": "code",
   "execution_count": 4,
   "id": "95ed2ac3-8a9b-4c0f-ac41-ac03a29e11b6",
   "metadata": {},
   "outputs": [],
   "source": [
    "result = [x for x in range(1,11)]"
   ]
  },
  {
   "cell_type": "code",
   "execution_count": 43,
   "id": "b27fa437-6e68-414c-bde8-0398c64dc02c",
   "metadata": {},
   "outputs": [],
   "source": [
    "result = [f\"{i}입니다\" for i in result]"
   ]
  },
  {
   "cell_type": "code",
   "execution_count": 44,
   "id": "f9908a21-5ead-4f4f-b03b-1969ffc1b8e7",
   "metadata": {},
   "outputs": [],
   "source": [
    "def append_test(result):\n",
    "    return result+\".\""
   ]
  },
  {
   "cell_type": "code",
   "execution_count": 45,
   "id": "b8e47bfe-feb4-4911-b9d2-3b9916b0c2be",
   "metadata": {},
   "outputs": [],
   "source": [
    "preprocessed_sentences=map(append_test, result)"
   ]
  },
  {
   "cell_type": "code",
   "execution_count": 46,
   "id": "3239e32e-dcb2-49b4-8c33-3838ddced298",
   "metadata": {},
   "outputs": [
    {
     "data": {
      "text/plain": [
       "<map at 0x1063157b0>"
      ]
     },
     "execution_count": 46,
     "metadata": {},
     "output_type": "execute_result"
    }
   ],
   "source": [
    "preprocessed_sentences"
   ]
  },
  {
   "cell_type": "code",
   "execution_count": 47,
   "id": "7d32b468-429c-4e3e-b292-9a1186b91350",
   "metadata": {},
   "outputs": [
    {
     "data": {
      "text/plain": [
       "['1입니다.',\n",
       " '2입니다.',\n",
       " '3입니다.',\n",
       " '4입니다.',\n",
       " '5입니다.',\n",
       " '6입니다.',\n",
       " '7입니다.',\n",
       " '8입니다.',\n",
       " '9입니다.',\n",
       " '10입니다.']"
      ]
     },
     "execution_count": 47,
     "metadata": {},
     "output_type": "execute_result"
    }
   ],
   "source": [
    "list(preprocessed_sentences)"
   ]
  },
  {
   "cell_type": "code",
   "execution_count": 21,
   "id": "81052522-47e8-4b9f-b8c6-71b34b8017a2",
   "metadata": {},
   "outputs": [],
   "source": [
    "preprocessed_sentences=map(lambda result : f\"{result}입니다\", result)"
   ]
  },
  {
   "cell_type": "code",
   "execution_count": 22,
   "id": "b1c40542-d797-44ce-a3d9-45ec3b808d7c",
   "metadata": {},
   "outputs": [
    {
     "name": "stdout",
     "output_type": "stream",
     "text": [
      "['1입니다', '2입니다', '3입니다', '4입니다', '5입니다', '6입니다', '7입니다', '8입니다', '9입니다', '10입니다']\n"
     ]
    }
   ],
   "source": [
    "print(list(preprocessed_sentences))"
   ]
  },
  {
   "cell_type": "code",
   "execution_count": 47,
   "id": "02ccc2eb-505f-4bbe-8bf5-00ae24a2bcf5",
   "metadata": {},
   "outputs": [],
   "source": [
    "#DocString\n",
    "\n",
    "logs ='''\n",
    "181.85.126.101 | [10/Oct/2024:06:36:13] \"GET /parsers HTTP/1.1\" 404 4119\n",
    "54.191.112.254 | [10/Oct/2024:06:36:13] \"DELETE /users HTTP/1.1\" 500 2089\n",
    "200.254.10.44 | [10/Oct/2024:06:36:13] \"DELETE /playbooks HTTP/1.1\" 201 4379\n",
    "81.56.76.8 | [10/Oct/2024:06:36:13] \"PATCH /fieldsets HTTP/1.1\" 401 3957\n",
    "209.224.62.104 | [10/Oct/2024:06:36:13] \"PATCH /playbooks HTTP/1.1\" 503 2755\n",
    "'''"
   ]
  },
  {
   "cell_type": "code",
   "execution_count": 48,
   "id": "c563c7f3-37c7-4a67-a731-268e5731df63",
   "metadata": {},
   "outputs": [],
   "source": [
    "logs = logs.split('\\n')"
   ]
  },
  {
   "cell_type": "code",
   "execution_count": 50,
   "id": "d04b035b-35b1-4f7c-b150-040b9f5ab087",
   "metadata": {},
   "outputs": [],
   "source": [
    "#slicing을 통해 문자열을 잘라 공백을 날린다.\n",
    "# indexing 접근 logs[0]\n",
    "logs = logs[1:-1]"
   ]
  },
  {
   "cell_type": "code",
   "execution_count": 51,
   "id": "256995b4-1a06-45f9-aef1-bd25e80d52f2",
   "metadata": {},
   "outputs": [
    {
     "data": {
      "text/plain": [
       "['181.85.126.101 | [10/Oct/2024:06:36:13] \"GET /parsers HTTP/1.1\" 404 4119',\n",
       " '54.191.112.254 | [10/Oct/2024:06:36:13] \"DELETE /users HTTP/1.1\" 500 2089',\n",
       " '200.254.10.44 | [10/Oct/2024:06:36:13] \"DELETE /playbooks HTTP/1.1\" 201 4379',\n",
       " '81.56.76.8 | [10/Oct/2024:06:36:13] \"PATCH /fieldsets HTTP/1.1\" 401 3957',\n",
       " '209.224.62.104 | [10/Oct/2024:06:36:13] \"PATCH /playbooks HTTP/1.1\" 503 2755']"
      ]
     },
     "execution_count": 51,
     "metadata": {},
     "output_type": "execute_result"
    }
   ],
   "source": [
    "logs"
   ]
  },
  {
   "cell_type": "code",
   "execution_count": 53,
   "id": "28012416-8af4-4b8b-acbb-e256807f9cd8",
   "metadata": {},
   "outputs": [],
   "source": [
    "import copy"
   ]
  },
  {
   "cell_type": "code",
   "execution_count": 54,
   "id": "a1758ca1-c141-4682-b019-544ec5e13844",
   "metadata": {},
   "outputs": [],
   "source": [
    "_copied_logs = copy.deepcopy(logs)"
   ]
  },
  {
   "cell_type": "code",
   "execution_count": 55,
   "id": "d9385ff2-5524-4726-a0d3-d202bcc8789b",
   "metadata": {},
   "outputs": [
    {
     "data": {
      "text/plain": [
       "['181.85.126.101 | [10/Oct/2024:06:36:13] \"GET /parsers HTTP/1.1\" 404 4119',\n",
       " '54.191.112.254 | [10/Oct/2024:06:36:13] \"DELETE /users HTTP/1.1\" 500 2089',\n",
       " '200.254.10.44 | [10/Oct/2024:06:36:13] \"DELETE /playbooks HTTP/1.1\" 201 4379',\n",
       " '81.56.76.8 | [10/Oct/2024:06:36:13] \"PATCH /fieldsets HTTP/1.1\" 401 3957',\n",
       " '209.224.62.104 | [10/Oct/2024:06:36:13] \"PATCH /playbooks HTTP/1.1\" 503 2755']"
      ]
     },
     "execution_count": 55,
     "metadata": {},
     "output_type": "execute_result"
    }
   ],
   "source": [
    "_copied_logs"
   ]
  },
  {
   "cell_type": "code",
   "execution_count": 57,
   "id": "3079db7d-46cd-48c0-9af3-bc7cd0c459e8",
   "metadata": {},
   "outputs": [],
   "source": [
    "_copied_logs[0] = ''"
   ]
  },
  {
   "cell_type": "code",
   "execution_count": 62,
   "id": "1a449606-86ba-47e0-9402-d66e4e8343de",
   "metadata": {},
   "outputs": [
    {
     "data": {
      "text/plain": [
       "'GET'"
      ]
     },
     "execution_count": 62,
     "metadata": {},
     "output_type": "execute_result"
    }
   ],
   "source": [
    "logs[0].split()[3].replace('\"','')"
   ]
  },
  {
   "cell_type": "code",
   "execution_count": 71,
   "id": "5fd70765-3f68-4acf-be35-2b3bf9c88c34",
   "metadata": {},
   "outputs": [],
   "source": [
    "#DocString\n",
    "\n",
    "logs ='''\n",
    "181.85.126.101 | [10/Oct/2024:06:36:13] \"GET /parsers HTTP/1.1\" 404 4119\n",
    "54.191.112.254 | [10/Oct/2024:06:36:13] \"DELETE /users HTTP/1.1\" 500 2089\n",
    "200.254.10.44 | [10/Oct/2024:06:36:13] \"DELETE /playbooks HTTP/1.1\" 201 4379\n",
    "81.56.76.8 | [10/Oct/2024:06:36:13] \"PATCH /fieldsets HTTP/1.1\" 401 3957\n",
    "209.224.62.104 | [10/Oct/2024:06:36:13] \"PATCH /playbooks HTTP/1.1\" 503 2755\n",
    "'''.split(\"\\n\")[1:-1]"
   ]
  },
  {
   "cell_type": "code",
   "execution_count": 72,
   "id": "01358cb5-93d0-4608-8346-ca494f7478b8",
   "metadata": {},
   "outputs": [
    {
     "data": {
      "text/plain": [
       "['181.85.126.101 | [10/Oct/2024:06:36:13] \"GET /parsers HTTP/1.1\" 404 4119',\n",
       " '54.191.112.254 | [10/Oct/2024:06:36:13] \"DELETE /users HTTP/1.1\" 500 2089',\n",
       " '200.254.10.44 | [10/Oct/2024:06:36:13] \"DELETE /playbooks HTTP/1.1\" 201 4379',\n",
       " '81.56.76.8 | [10/Oct/2024:06:36:13] \"PATCH /fieldsets HTTP/1.1\" 401 3957',\n",
       " '209.224.62.104 | [10/Oct/2024:06:36:13] \"PATCH /playbooks HTTP/1.1\" 503 2755']"
      ]
     },
     "execution_count": 72,
     "metadata": {},
     "output_type": "execute_result"
    }
   ],
   "source": [
    "logs"
   ]
  },
  {
   "cell_type": "code",
   "execution_count": 76,
   "id": "5521a1e3-f40b-4edc-a534-a098e41e2e9e",
   "metadata": {},
   "outputs": [
    {
     "data": {
      "text/plain": [
       "['GET', 'DELETE', 'DELETE', 'PATCH', 'PATCH']"
      ]
     },
     "execution_count": 76,
     "metadata": {},
     "output_type": "execute_result"
    }
   ],
   "source": [
    "list(map(lambda log: log.split()[3].replace('\"',''),logs))"
   ]
  },
  {
   "cell_type": "code",
   "execution_count": 77,
   "id": "d9027eac-6f60-4abd-bcd4-f20e348f112e",
   "metadata": {},
   "outputs": [
    {
     "data": {
      "text/plain": [
       "'404'"
      ]
     },
     "execution_count": 77,
     "metadata": {},
     "output_type": "execute_result"
    }
   ],
   "source": [
    "logs[0].split()[-2]"
   ]
  },
  {
   "cell_type": "code",
   "execution_count": 79,
   "id": "ee05d897-f51a-4da7-ab1a-d1c30e8939aa",
   "metadata": {},
   "outputs": [],
   "source": [
    "def find_status(log):\n",
    "    return log.split()[-2]"
   ]
  },
  {
   "cell_type": "code",
   "execution_count": 87,
   "id": "f638ba8e-3671-41d2-9010-1b0b6a59e1ac",
   "metadata": {},
   "outputs": [
    {
     "name": "stdout",
     "output_type": "stream",
     "text": [
      "error : 54.191.112.254 | [10/Oct/2024:06:36:13] \"DELETE /users HTTP/1.1\" 500 2089:\n",
      "error : 209.224.62.104 | [10/Oct/2024:06:36:13] \"PATCH /playbooks HTTP/1.1\" 503 2755:\n"
     ]
    }
   ],
   "source": [
    "for log in logs:\n",
    "    if find_status(log).startswith(\"5\"):\n",
    "        print(f\"error : {log}:\")"
   ]
  },
  {
   "cell_type": "code",
   "execution_count": 80,
   "id": "d4c8ff90-0cac-4a63-a002-f562750b1741",
   "metadata": {},
   "outputs": [],
   "source": [
    "_result = find_status(logs[0])"
   ]
  },
  {
   "cell_type": "code",
   "execution_count": 83,
   "id": "8ed57b91-6376-4a17-b4b9-4bf9597dfc0d",
   "metadata": {},
   "outputs": [
    {
     "data": {
      "text/plain": [
       "True"
      ]
     },
     "execution_count": 83,
     "metadata": {},
     "output_type": "execute_result"
    }
   ],
   "source": [
    "_result.startswith(\"4\")"
   ]
  },
  {
   "cell_type": "code",
   "execution_count": 95,
   "id": "6b7d6e93-d9c9-4719-8d5d-75056cd3d4c7",
   "metadata": {},
   "outputs": [],
   "source": [
    "iterable_var_of_filter = list(filter(lambda log: log.split()[-2].startswith('5'), logs))"
   ]
  },
  {
   "cell_type": "code",
   "execution_count": 94,
   "id": "ade84c91-c3f6-423b-9017-d3e242fbfa76",
   "metadata": {},
   "outputs": [],
   "source": [
    "import sys"
   ]
  },
  {
   "cell_type": "code",
   "execution_count": 99,
   "id": "9bbed9fd-a3e5-4947-9fb9-0289eb4b0451",
   "metadata": {},
   "outputs": [
    {
     "name": "stdout",
     "output_type": "stream",
     "text": [
      "map, filter => iterable 객체의 크기:120 bytes\n"
     ]
    }
   ],
   "source": [
    "print(\n",
    "    f\"map, filter => iterable 객체의 크기:{sys.getsizeof(iterable_var_of_filter)} bytes\")"
   ]
  },
  {
   "cell_type": "code",
   "execution_count": 100,
   "id": "bcec833e-f367-4840-84a3-809f130e8679",
   "metadata": {},
   "outputs": [
    {
     "name": "stdout",
     "output_type": "stream",
     "text": [
      "map, filter => iterable 객체의 크기:96 bytes\n"
     ]
    }
   ],
   "source": [
    "print(\n",
    "    f\"map, filter => iterable 객체의 크기:{sys.getsizeof(logs)} bytes\")"
   ]
  },
  {
   "cell_type": "raw",
   "id": "128de7d8-6afe-4d52-b9ac-e9fdeb77bc66",
   "metadata": {},
   "source": [
    "from date"
   ]
  },
  {
   "cell_type": "code",
   "execution_count": 101,
   "id": "b929b3e2-c922-42d6-bfaf-82a0f4c2e67b",
   "metadata": {},
   "outputs": [],
   "source": [
    "from datetime import date, timedelta"
   ]
  },
  {
   "cell_type": "code",
   "execution_count": 102,
   "id": "8089b832-0cfd-4702-9d42-3b2550816d80",
   "metadata": {},
   "outputs": [],
   "source": [
    "today = date(2024, 10,28)"
   ]
  },
  {
   "cell_type": "code",
   "execution_count": 103,
   "id": "0ffab54f-f9ba-4b80-a5f0-72bc96afed88",
   "metadata": {},
   "outputs": [
    {
     "data": {
      "text/plain": [
       "datetime.date"
      ]
     },
     "execution_count": 103,
     "metadata": {},
     "output_type": "execute_result"
    }
   ],
   "source": [
    "type(today)"
   ]
  },
  {
   "cell_type": "code",
   "execution_count": 104,
   "id": "2b0d71c1-9eee-4dfc-ae70-f5bbe8e68a3b",
   "metadata": {},
   "outputs": [
    {
     "data": {
      "text/plain": [
       "datetime.date(2024, 10, 28)"
      ]
     },
     "execution_count": 104,
     "metadata": {},
     "output_type": "execute_result"
    }
   ],
   "source": [
    "today"
   ]
  },
  {
   "cell_type": "code",
   "execution_count": 109,
   "id": "a4584c8b-4e75-4af4-81ba-3de0383eb1ff",
   "metadata": {},
   "outputs": [
    {
     "data": {
      "text/plain": [
       "datetime.date(2024, 10, 31)"
      ]
     },
     "execution_count": 109,
     "metadata": {},
     "output_type": "execute_result"
    }
   ],
   "source": [
    "date.today() + timedelta(3)"
   ]
  },
  {
   "cell_type": "code",
   "execution_count": 110,
   "id": "b8f26899-ed21-451c-bccc-333daaf3d044",
   "metadata": {},
   "outputs": [],
   "source": [
    "d_day = (date(2025,3,24)-date.today())"
   ]
  },
  {
   "cell_type": "code",
   "execution_count": 111,
   "id": "d0550cd2-7f38-49d8-8dec-390d0045f68f",
   "metadata": {},
   "outputs": [
    {
     "name": "stdout",
     "output_type": "stream",
     "text": [
      "147 days, 0:00:00\n"
     ]
    }
   ],
   "source": [
    "print(d_day)"
   ]
  },
  {
   "cell_type": "code",
   "execution_count": 119,
   "id": "23295b24-dfd2-4b68-b797-5595d3adba50",
   "metadata": {},
   "outputs": [],
   "source": [
    "def func(chip,memory, **keyword_arguments):\n",
    "    print(chip)\n",
    "\n",
    "    ##memory = args[0] if len(args) >= 1 else None\n",
    "    keyword_arguments.get(\"memory\", None)\n",
    "\n",
    "    print(memory)"
   ]
  },
  {
   "cell_type": "code",
   "execution_count": 120,
   "id": "8d74d3a8-ad48-40c4-ad30-4054a9cc2bdb",
   "metadata": {},
   "outputs": [
    {
     "name": "stdout",
     "output_type": "stream",
     "text": [
      "M3\n",
      "18GB\n"
     ]
    }
   ],
   "source": [
    "func(chip=\"M3\", memory=\"18GB\")"
   ]
  },
  {
   "cell_type": "code",
   "execution_count": null,
   "id": "40def6fa-aee6-4789-8920-a0eeb5913001",
   "metadata": {},
   "outputs": [],
   "source": []
  }
 ],
 "metadata": {
  "kernelspec": {
   "display_name": "Python 3 (ipykernel)",
   "language": "python",
   "name": "python3"
  },
  "language_info": {
   "codemirror_mode": {
    "name": "ipython",
    "version": 3
   },
   "file_extension": ".py",
   "mimetype": "text/x-python",
   "name": "python",
   "nbconvert_exporter": "python",
   "pygments_lexer": "ipython3",
   "version": "3.11.10"
  }
 },
 "nbformat": 4,
 "nbformat_minor": 5
}
